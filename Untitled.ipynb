{
 "cells": [
  {
   "cell_type": "markdown",
   "id": "46c682cc-38d6-4924-b31f-775af89a9abd",
   "metadata": {},
   "source": [
    "<h1 style=\"color: red;\">Collection data </h1>"
   ]
  },
  {
   "cell_type": "code",
   "execution_count": 5,
   "id": "4186aef7-c56d-43f4-bbe0-1f62ef2c4f79",
   "metadata": {},
   "outputs": [
    {
     "name": "stdout",
     "output_type": "stream",
     "text": [
      "Requirement already satisfied: requests in c:\\users\\noura\\anaconda3\\lib\\site-packages (2.32.2)\n",
      "Requirement already satisfied: pandas in c:\\users\\noura\\anaconda3\\lib\\site-packages (2.2.2)\n",
      "Requirement already satisfied: charset-normalizer<4,>=2 in c:\\users\\noura\\anaconda3\\lib\\site-packages (from requests) (2.0.4)\n",
      "Requirement already satisfied: idna<4,>=2.5 in c:\\users\\noura\\anaconda3\\lib\\site-packages (from requests) (3.7)\n",
      "Requirement already satisfied: urllib3<3,>=1.21.1 in c:\\users\\noura\\anaconda3\\lib\\site-packages (from requests) (2.2.2)\n",
      "Requirement already satisfied: certifi>=2017.4.17 in c:\\users\\noura\\anaconda3\\lib\\site-packages (from requests) (2024.8.30)\n",
      "Requirement already satisfied: numpy>=1.26.0 in c:\\users\\noura\\anaconda3\\lib\\site-packages (from pandas) (1.26.4)\n",
      "Requirement already satisfied: python-dateutil>=2.8.2 in c:\\users\\noura\\anaconda3\\lib\\site-packages (from pandas) (2.9.0.post0)\n",
      "Requirement already satisfied: pytz>=2020.1 in c:\\users\\noura\\anaconda3\\lib\\site-packages (from pandas) (2024.1)\n",
      "Requirement already satisfied: tzdata>=2022.7 in c:\\users\\noura\\anaconda3\\lib\\site-packages (from pandas) (2023.3)\n",
      "Requirement already satisfied: six>=1.5 in c:\\users\\noura\\anaconda3\\lib\\site-packages (from python-dateutil>=2.8.2->pandas) (1.16.0)\n",
      "Note: you may need to restart the kernel to use updated packages.\n"
     ]
    }
   ],
   "source": [
    "pip install requests pandas\n"
   ]
  },
  {
   "cell_type": "code",
   "execution_count": 7,
   "id": "7bc04874-5a1d-4510-bd32-beea70708b26",
   "metadata": {},
   "outputs": [],
   "source": [
    "import requests\n",
    "import pandas as pd"
   ]
  },
  {
   "cell_type": "code",
   "execution_count": 9,
   "id": "eb9c7ee7-3602-46e9-8897-d2d80b6dda4b",
   "metadata": {},
   "outputs": [],
   "source": [
    " #l'URL de l'API\n",
    "url = \"https://api.coingecko.com/api/v3/coins/markets\"\n"
   ]
  },
  {
   "cell_type": "code",
   "execution_count": 11,
   "id": "f231f1ac-adef-4f54-9598-4faa6c27c826",
   "metadata": {},
   "outputs": [],
   "source": [
    "# Paramètres de requête\n",
    "params = {\n",
    "    \"vs_currency\": \"usd\",  # Devise en USD\n",
    "    \"order\": \"market_cap_desc\",  # Classement par capitalisation\n",
    "    \"per_page\": 10,  # Nombre de cryptos affichées\n",
    "    \"page\": 1,\n",
    "    \"sparkline\": False\n",
    "}"
   ]
  },
  {
   "cell_type": "code",
   "execution_count": 13,
   "id": "267b07ba-aad3-4f1b-bb65-0d8bf501d3dd",
   "metadata": {},
   "outputs": [],
   "source": [
    "# Envoi de la requête GET\n",
    "response = requests.get(url, params=params)\n"
   ]
  },
  {
   "cell_type": "code",
   "execution_count": 15,
   "id": "30ebbdff-23c4-4fda-ac16-6e522b8bc15f",
   "metadata": {},
   "outputs": [
    {
     "name": "stdout",
     "output_type": "stream",
     "text": [
      "             id symbol  current_price     market_cap  total_volume\n",
      "0       bitcoin    btc   95722.000000  1897962292583   36460678167\n",
      "1      ethereum    eth    2602.670000   313749876577   19223387350\n",
      "2        tether   usdt       0.999843   141857237726   69726680630\n",
      "3        ripple    xrp       2.410000   139557009414    4811740945\n",
      "4        solana    sol     197.980000    96616487872    4606590904\n",
      "5   binancecoin    bnb     642.890000    93840052909    1489261908\n",
      "6      usd-coin   usdc       0.999902    56066445259    4668322160\n",
      "7      dogecoin   doge       0.253147    37460305469    1681764661\n",
      "8       cardano    ada       0.779193    28007423073    1781269579\n",
      "9  staked-ether  steth    2600.080000    24457462436      90971977\n"
     ]
    }
   ],
   "source": [
    "# Vérifier si la requête a réussi\n",
    "if response.status_code == 200:\n",
    "    data = response.json()  # Convertir la réponse en JSON\n",
    "    df = pd.DataFrame(data, columns=['id', 'symbol', 'current_price', 'market_cap', 'total_volume'])\n",
    "    print(df)  # Afficher les données sous forme de tableau\n",
    "else:\n",
    "    print(\"Erreur lors de la récupération des données\")"
   ]
  },
  {
   "cell_type": "code",
   "execution_count": 19,
   "id": "2ef3b994-8741-4586-bf48-7c84b88bd3a0",
   "metadata": {},
   "outputs": [
    {
     "name": "stdout",
     "output_type": "stream",
     "text": [
      "Les données ont été sauvegardées dans 'cryptos_prices.csv'\n"
     ]
    }
   ],
   "source": [
    "# Vérifier si la requête a réussi\n",
    "if response.status_code == 200:\n",
    "    data = response.json()  # Convertir la réponse en JSON\n",
    "    df = pd.DataFrame(data, columns=['id', 'symbol', 'current_price', 'market_cap', 'total_volume'])\n",
    "    \n",
    "    # Enregistrer les données dans un fichier CSV\n",
    "    df.to_csv('cryptos_prices.csv', index=False)  # 'index=False' pour ne pas inclure l'index dans le fichier CSV\n",
    "    print(\"Les données ont été sauvegardées dans 'cryptos_prices.csv'\")\n",
    "else:\n",
    "    print(\"Erreur lors de la récupération des données\")"
   ]
  },
  {
   "cell_type": "code",
   "execution_count": null,
   "id": "8ab2cd35-4ba4-4986-9c05-263e53a155ac",
   "metadata": {},
   "outputs": [],
   "source": []
  }
 ],
 "metadata": {
  "kernelspec": {
   "display_name": "Python 3 (ipykernel)",
   "language": "python",
   "name": "python3"
  },
  "language_info": {
   "codemirror_mode": {
    "name": "ipython",
    "version": 3
   },
   "file_extension": ".py",
   "mimetype": "text/x-python",
   "name": "python",
   "nbconvert_exporter": "python",
   "pygments_lexer": "ipython3",
   "version": "3.12.4"
  }
 },
 "nbformat": 4,
 "nbformat_minor": 5
}
