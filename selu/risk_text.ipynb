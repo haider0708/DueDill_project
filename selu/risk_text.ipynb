{
 "cells": [
  {
   "cell_type": "code",
   "execution_count": 1,
   "id": "f824e086",
   "metadata": {},
   "outputs": [],
   "source": [
    "import pandas as pd\n",
    "from pymongo import MongoClient\n",
    "from sklearn.preprocessing import LabelEncoder\n",
    "import ast\n",
    "from sklearn.preprocessing import StandardScaler\n"
   ]
  },
  {
   "cell_type": "code",
   "execution_count": 22,
   "id": "aa18f257",
   "metadata": {},
   "outputs": [
    {
     "name": "stdout",
     "output_type": "stream",
     "text": [
      "            id symbol      name  current_price     market_cap  \\\n",
      "0      bitcoin    btc   Bitcoin   97781.000000  1942716505416   \n",
      "1     ethereum    eth  Ethereum    2765.400000   334591411004   \n",
      "2       ripple    xrp       XRP       2.480000   143481543884   \n",
      "3       tether   usdt    Tether       0.999995   141952534193   \n",
      "4  binancecoin    bnb       BNB     700.950000   102259685465   \n",
      "\n",
      "   market_cap_rank  fully_diluted_valuation  total_volume  high_24h  \\\n",
      "0                1            1942719935467  4.989618e+10  98098.00   \n",
      "1                2             334591411004  2.400374e+10   2782.27   \n",
      "2                3             248365405217  4.822054e+09      2.49   \n",
      "3                4             141952534193  4.632736e+10      1.00   \n",
      "4                5             102259685465  2.390417e+09    703.18   \n",
      "\n",
      "        low_24h  ...  total_supply    max_supply        ath  \\\n",
      "0  94120.000000  ...  1.982338e+07  2.100000e+07  108786.00   \n",
      "1   2565.920000  ...  1.205431e+08           NaN    4878.26   \n",
      "2      2.360000  ...  9.998650e+10  1.000000e+11       3.40   \n",
      "3      0.999643  ...  1.419533e+11           NaN       1.32   \n",
      "4    627.790000  ...  1.458876e+08  2.000000e+08     788.84   \n",
      "\n",
      "   ath_change_percentage                  ath_date        atl  \\\n",
      "0               -9.89036  2025-01-20T09:11:54.494Z  67.810000   \n",
      "1              -43.00585  2021-11-10T14:24:19.604Z   0.432979   \n",
      "2              -26.84901  2018-01-07T00:00:00.000Z   0.002686   \n",
      "3              -24.41645  2018-07-24T00:00:00.000Z   0.572521   \n",
      "4              -10.86365  2024-12-04T10:35:25.220Z   0.039818   \n",
      "\n",
      "   atl_change_percentage                  atl_date  \\\n",
      "0           1.444623e+05  2013-07-06T00:00:00.000Z   \n",
      "1           6.420383e+05  2015-10-20T00:00:00.000Z   \n",
      "2           9.244685e+04  2014-05-22T00:00:00.000Z   \n",
      "3           7.467348e+01  2015-03-02T00:00:00.000Z   \n",
      "4           1.765814e+06  2017-10-19T00:00:00.000Z   \n",
      "\n",
      "                                                 roi              last_updated  \n",
      "0                                                NaN  2025-02-12T22:46:25.542Z  \n",
      "1  {'times': 36.79377565795439, 'currency': 'btc'...  2025-02-12T22:46:27.157Z  \n",
      "2                                                NaN  2025-02-12T22:46:24.178Z  \n",
      "3                                                NaN  2025-02-12T22:46:27.904Z  \n",
      "4                                                NaN  2025-02-12T22:46:24.704Z  \n",
      "\n",
      "[5 rows x 25 columns]\n",
      "                                               title  \\\n",
      "0  Argentina president Javier Milei claims LIBRA ...   \n",
      "1  Michael Saylor on Elon Musk's Acute Post: 'Bit...   \n",
      "2  $TRUMP Memecoin Airdrop: $50 Bonus for Trump M...   \n",
      "3  Standard Chartered to Launch a Stablecoin Pegg...   \n",
      "4      Monad to roll out a public testnet on Feb. 19   \n",
      "\n",
      "                                             content                  time  \\\n",
      "0  Argentina’s President Javier Milei has denied ...  2025-02-18T09:11:20Z   \n",
      "1  Vocal Bitcoiner Saylor has proposed a BTC solu...  2025-02-18T09:07:00Z   \n",
      "2  This initiative rewards customers who purchase...  2025-02-18T08:53:26Z   \n",
      "3  Standard Chartered Bank (Hong Kong) Limited (S...  2025-02-18T08:48:09Z   \n",
      "4  Monad's testnet, in development for two years,...  2025-02-18T08:45:35Z   \n",
      "\n",
      "  trading_pair_or_currencies price_change  \n",
      "0                 SOL, LIBRA          NaN  \n",
      "1             BTC, G, BTC, O          NaN  \n",
      "2  TRUMP, MEME, TRUMP, TRUMP          NaN  \n",
      "3                        NaN          NaN  \n",
      "4                        NaN          NaN  \n"
     ]
    }
   ],
   "source": [
    "import pandas as pd\n",
    "\n",
    "# Define base path\n",
    "base_path = r\"C:/Users/acer/Desktop/due_deligence/data_risk\"\n",
    "\n",
    "# Load market data\n",
    "market_data = pd.read_csv(f\"{base_path}\\\\market_data.csv\")\n",
    "\n",
    "# Load news data\n",
    "news_data = pd.read_csv(f\"{base_path}\\\\news_data.csv\")\n",
    "\n",
    "# Quick peek\n",
    "print(market_data.head())\n",
    "print(news_data.head())\n",
    "\n",
    "# Convert to DataFrames\n",
    "market_df = pd.DataFrame(market_data)\n",
    "news_df = pd.DataFrame(news_data)\n"
   ]
  },
  {
   "cell_type": "code",
   "execution_count": 25,
   "id": "3745b0c0",
   "metadata": {},
   "outputs": [],
   "source": [
    "def get_crypto_data(symbol, market_df, news_df):\n",
    "    # Get market info\n",
    "    market_info = market_df[market_df['symbol'].str.lower() == symbol.lower()]\n",
    "    if market_info.empty:\n",
    "        return None, None\n",
    "\n",
    "    # Get news mentioning the currency\n",
    "    news_related = news_df[\n",
    "        news_df['trading_pair_or_currencies'].str.lower().str.contains(symbol.lower(), na=False)\n",
    "    ].sort_values(by=\"time\", ascending=False).head(5)  # limit to recent 5\n",
    "\n",
    "    return market_info.to_dict(orient='records')[0], news_related.to_dict(orient='records')\n"
   ]
  },
  {
   "cell_type": "code",
   "execution_count": 30,
   "id": "e41e55fc",
   "metadata": {},
   "outputs": [
    {
     "name": "stdout",
     "output_type": "stream",
     "text": [
      "Market Info: {'id': 'binancecoin', 'symbol': 'bnb', 'name': 'BNB', 'current_price': 700.95, 'market_cap': 102259685465, 'market_cap_rank': 5, 'fully_diluted_valuation': 102259685465, 'total_volume': 2390417337.0, 'high_24h': 703.18, 'low_24h': 627.79, 'price_change_24h': 58.58, 'price_change_percentage_24h': 9.1198, 'market_cap_change_24h': 8578463228.0, 'market_cap_change_percentage_24h': 9.15708, 'circulating_supply': 145887575.79, 'total_supply': 145887575.79, 'max_supply': 200000000.0, 'ath': 788.84, 'ath_change_percentage': -10.86365, 'ath_date': '2024-12-04T10:35:25.220Z', 'atl': 0.0398177, 'atl_change_percentage': 1765814.27166, 'atl_date': '2017-10-19T00:00:00.000Z', 'roi': nan, 'last_updated': '2025-02-12T22:46:24.704Z'}\n",
      "News Related: [{'title': 'BNB Surpasses 660 USDT with a 2.94% Decrease in 24 Hours', 'content': 'Binance Market Data, BNB crossed the 660 USDT benchmark and is now trading at 660.099976 USDT, with a 2.94% decrease in 24 hours.\\nTrading Pair: BNB\\nPrice Change: +1.15%', 'time': 'Feb 15', 'trading_pair_or_currencies': 'BNB', 'price_change': '+1.15%'}, {'title': 'BNB Surpasses 660 USDT with a 2.94% Decrease in 24 Hours', 'content': 'Binance Market Data, BNB crossed the 660 USDT benchmark and is now trading at 660.099976 USDT, with a 2.94% decrease in 24 hours.\\nTrading Pair: BNB\\nPrice Change: +0.04%', 'time': 'Feb 15', 'trading_pair_or_currencies': 'BNB', 'price_change': '+0.04%'}, {'title': 'BNB Surpasses 660 USDT with a 2.94% Decrease in 24 Hours', 'content': 'Binance Market Data, BNB crossed the 660 USDT benchmark and is now trading at 660.099976 USDT, with a 2.94% decrease in 24 hours.\\nTrading Pair: BNB\\nPrice Change: +1.44%', 'time': 'Feb 15', 'trading_pair_or_currencies': 'BNB', 'price_change': '+1.44%'}, {'title': 'BNB Surpasses 660 USDT with a 2.94% Decrease in 24 Hours', 'content': 'Binance Market Data, BNB crossed the 660 USDT benchmark and is now trading at 660.099976 USDT, with a 2.94% decrease in 24 hours.\\nTrading Pair: BNB\\nPrice Change: +1.37%', 'time': 'Feb 15', 'trading_pair_or_currencies': 'BNB', 'price_change': '+1.37%'}, {'title': 'BNB Surpasses 660 USDT with a 2.94% Decrease in 24 Hours', 'content': 'Binance Market Data, BNB crossed the 660 USDT benchmark and is now trading at 660.099976 USDT, with a 2.94% decrease in 24 hours.\\nTrading Pair: BNB\\nPrice Change: +1.84%', 'time': 'Feb 15', 'trading_pair_or_currencies': 'BNB', 'price_change': '+1.84%'}]\n"
     ]
    }
   ],
   "source": [
    "symbol = 'bnb'  # Example symbol\n",
    "market_info, news_related = get_crypto_data(symbol, market_data, news_data)\n",
    "\n",
    "# Print the results\n",
    "print(\"Market Info:\", market_info)\n",
    "print(\"News Related:\", news_related)\n"
   ]
  },
  {
   "cell_type": "code",
   "execution_count": null,
   "id": "0321c49c",
   "metadata": {},
   "outputs": [],
   "source": [
    "%pip install ollama"
   ]
  },
  {
   "cell_type": "code",
   "execution_count": 35,
   "id": "ebbb9a29",
   "metadata": {},
   "outputs": [],
   "source": [
    "\n",
    "import ollama\n",
    "import json\n",
    "\n",
    "def ask_llama_about_risk(symbol, market_info, news_related):\n",
    "    prompt = f\"\"\"\n",
    "You are a financial risk analyst. A user is asking about the RISK of investing in the cryptocurrency '{symbol}'.\n",
    "\n",
    "Here is the market data:\n",
    "{json.dumps(market_info, indent=2)}\n",
    "\n",
    "Here are recent news articles:\n",
    "{json.dumps(news_related, indent=2)}\n",
    "\n",
    "Based on this information, tell me:\n",
    "- Is this cryptocurrency risky?\n",
    "- Why or why not?\n",
    "- Summarize the decision in a single line at the end: RISK LEVEL = [LOW/MEDIUM/HIGH]\n",
    "\"\"\"\n",
    "\n",
    "    response = ollama.chat(\n",
    "        model='llama3',\n",
    "        messages=[{\"role\": \"user\", \"content\": prompt}]\n",
    "    )\n",
    "    \n",
    "    # Return the response content\n",
    "    return response['message']['content']\n"
   ]
  },
  {
   "cell_type": "code",
   "execution_count": 36,
   "id": "c558a444",
   "metadata": {},
   "outputs": [
    {
     "name": "stdout",
     "output_type": "stream",
     "text": [
      "As a financial risk analyst, I would evaluate the risk of investing in Bitcoin (BTC) based on the provided market data and recent news articles.\n",
      "\n",
      "The current price of BTC is $97,481, which is relatively high compared to its historical lows. The market capitalization of $194 billion is significant, indicating a large number of investors have already invested in the cryptocurrency.\n",
      "\n",
      "Recent news articles suggest that there are some concerns about the direction of the market. For instance:\n",
      "\n",
      "* Grayscale's GBTC experienced net outflows, while Mini BTC saw net inflows, indicating potential shifts in investor sentiment.\n",
      "* Ray Dalio discussed the depreciation of currencies against assets like gold and Bitcoin, which may indicate a broader trend.\n",
      "* A dormant Bitcoin address containing 300 BTC was activated after over a decade, potentially signaling increased activity.\n",
      "\n",
      "However, there are no major red flags or significant negative news articles that would indicate high risk. The price change over the past 24 hours is relatively small (-0.15%), and the market capitalization has not experienced any sudden drops.\n",
      "\n",
      "Based on this analysis, I would assess the risk level of investing in Bitcoin (BTC) as:\n",
      "\n",
      "RISK LEVEL = MEDIUM\n",
      "\n",
      "This assessment is based on a combination of factors: the cryptocurrency's high current price and market capitalization, mixed signals from recent news articles, and no major red flags indicating high risk.\n"
     ]
    }
   ],
   "source": [
    "symbol = \"btc\"  # or input(\"Enter crypto symbol: \")\n",
    "market_info, news_info = get_crypto_data(symbol, market_data, news_data)\n",
    "\n",
    "if market_info:\n",
    "    response = ask_llama_about_risk(symbol, market_info, news_info)\n",
    "    print(response)\n",
    "else:\n",
    "    print(\"Symbol not found in market data.\")\n"
   ]
  },
  {
   "cell_type": "code",
   "execution_count": null,
   "id": "72c328ae",
   "metadata": {},
   "outputs": [
    {
     "name": "stdout",
     "output_type": "stream",
     "text": [
      "Requirement already satisfied: flask in c:\\users\\acer\\appdata\\local\\programs\\python\\python310\\lib\\site-packages (3.1.0)\n",
      "Requirement already satisfied: Jinja2>=3.1.2 in c:\\users\\acer\\appdata\\local\\programs\\python\\python310\\lib\\site-packages (from flask) (3.1.5)\n",
      "Requirement already satisfied: Werkzeug>=3.1 in c:\\users\\acer\\appdata\\local\\programs\\python\\python310\\lib\\site-packages (from flask) (3.1.3)\n",
      "Requirement already satisfied: blinker>=1.9 in c:\\users\\acer\\appdata\\local\\programs\\python\\python310\\lib\\site-packages (from flask) (1.9.0)\n",
      "Requirement already satisfied: itsdangerous>=2.2 in c:\\users\\acer\\appdata\\local\\programs\\python\\python310\\lib\\site-packages (from flask) (2.2.0)\n",
      "Requirement already satisfied: click>=8.1.3 in c:\\users\\acer\\appdata\\local\\programs\\python\\python310\\lib\\site-packages (from flask) (8.1.8)\n",
      "Requirement already satisfied: colorama in c:\\users\\acer\\appdata\\roaming\\python\\python310\\site-packages (from click>=8.1.3->flask) (0.4.6)\n",
      "Requirement already satisfied: MarkupSafe>=2.0 in c:\\users\\acer\\appdata\\local\\programs\\python\\python310\\lib\\site-packages (from Jinja2>=3.1.2->flask) (3.0.2)\n",
      "Note: you may need to restart the kernel to use updated packages.\n"
     ]
    },
    {
     "name": "stderr",
     "output_type": "stream",
     "text": [
      "WARNING: Ignoring invalid distribution -eautifulsoup4 (c:\\users\\acer\\appdata\\local\\programs\\python\\python310\\lib\\site-packages)\n",
      "WARNING: Ignoring invalid distribution -eautifulsoup4 (c:\\users\\acer\\appdata\\local\\programs\\python\\python310\\lib\\site-packages)\n",
      "WARNING: Ignoring invalid distribution -eautifulsoup4 (c:\\users\\acer\\appdata\\local\\programs\\python\\python310\\lib\\site-packages)\n",
      "WARNING: Ignoring invalid distribution -eautifulsoup4 (c:\\users\\acer\\appdata\\local\\programs\\python\\python310\\lib\\site-packages)\n",
      "WARNING: Ignoring invalid distribution -eautifulsoup4 (c:\\users\\acer\\appdata\\local\\programs\\python\\python310\\lib\\site-packages)\n",
      "WARNING: Ignoring invalid distribution -eautifulsoup4 (c:\\users\\acer\\appdata\\local\\programs\\python\\python310\\lib\\site-packages)\n",
      "\n",
      "[notice] A new release of pip available: 22.2.1 -> 25.0.1\n",
      "[notice] To update, run: python.exe -m pip install --upgrade pip\n"
     ]
    },
    {
     "ename": "",
     "evalue": "",
     "output_type": "error",
     "traceback": [
      "\u001b[1;31mThe Kernel crashed while executing code in the current cell or a previous cell. \n",
      "\u001b[1;31mPlease review the code in the cell(s) to identify a possible cause of the failure. \n",
      "\u001b[1;31mClick <a href='https://aka.ms/vscodeJupyterKernelCrash'>here</a> for more info. \n",
      "\u001b[1;31mView Jupyter <a href='command:jupyter.viewOutput'>log</a> for further details."
     ]
    }
   ],
   "source": [
    "%pip install flask\n",
    "\n"
   ]
  },
  {
   "cell_type": "code",
   "execution_count": 1,
   "id": "652bcb89",
   "metadata": {},
   "outputs": [
    {
     "name": "stdout",
     "output_type": "stream",
     "text": [
      "Precision: 0.7\n",
      "Recall: 0.6\n",
      "F1-Score: 0.6\n"
     ]
    }
   ],
   "source": [
    "from sklearn.metrics import f1_score, precision_score, recall_score\n",
    "\n",
    "# Example: Assuming you have a set of true labels and predicted labels for the risk levels (HIGH, MEDIUM, LOW)\n",
    "true_labels = [\"HIGH\", \"LOW\", \"MEDIUM\", \"MEDIUM\", \"HIGH\"]  # Actual labels\n",
    "predicted_labels = [\"HIGH\", \"LOW\", \"MEDIUM\", \"HIGH\", \"LOW\"]  # Model predictions\n",
    "\n",
    "# Calculate Precision, Recall, and F1-Score\n",
    "precision = precision_score(true_labels, predicted_labels, average='weighted')\n",
    "recall = recall_score(true_labels, predicted_labels, average='weighted')\n",
    "f1 = f1_score(true_labels, predicted_labels, average='weighted')\n",
    "\n",
    "print(f\"Precision: {precision}\")\n",
    "print(f\"Recall: {recall}\")\n",
    "print(f\"F1-Score: {f1}\")\n"
   ]
  },
  {
   "cell_type": "code",
   "execution_count": 2,
   "id": "5d8b640e",
   "metadata": {},
   "outputs": [
    {
     "name": "stdout",
     "output_type": "stream",
     "text": [
      "Requirement already satisfied: nltk in c:\\users\\acer\\appdata\\local\\programs\\python\\python310\\lib\\site-packages (3.9.1)\n",
      "Requirement already satisfied: joblib in c:\\users\\acer\\appdata\\local\\programs\\python\\python310\\lib\\site-packages (from nltk) (1.4.2)\n",
      "Requirement already satisfied: tqdm in c:\\users\\acer\\appdata\\local\\programs\\python\\python310\\lib\\site-packages (from nltk) (4.67.1)\n",
      "Requirement already satisfied: regex>=2021.8.3 in c:\\users\\acer\\appdata\\local\\programs\\python\\python310\\lib\\site-packages (from nltk) (2024.11.6)\n",
      "Requirement already satisfied: click in c:\\users\\acer\\appdata\\local\\programs\\python\\python310\\lib\\site-packages (from nltk) (8.1.8)\n",
      "Requirement already satisfied: colorama in c:\\users\\acer\\appdata\\roaming\\python\\python310\\site-packages (from click->nltk) (0.4.6)\n"
     ]
    },
    {
     "name": "stderr",
     "output_type": "stream",
     "text": [
      "WARNING: Ignoring invalid distribution -eautifulsoup4 (c:\\users\\acer\\appdata\\local\\programs\\python\\python310\\lib\\site-packages)\n",
      "WARNING: Ignoring invalid distribution -eautifulsoup4 (c:\\users\\acer\\appdata\\local\\programs\\python\\python310\\lib\\site-packages)\n",
      "WARNING: Ignoring invalid distribution -eautifulsoup4 (c:\\users\\acer\\appdata\\local\\programs\\python\\python310\\lib\\site-packages)\n",
      "WARNING: Ignoring invalid distribution -eautifulsoup4 (c:\\users\\acer\\appdata\\local\\programs\\python\\python310\\lib\\site-packages)\n",
      "WARNING: Ignoring invalid distribution -eautifulsoup4 (c:\\users\\acer\\appdata\\local\\programs\\python\\python310\\lib\\site-packages)\n",
      "WARNING: Ignoring invalid distribution -eautifulsoup4 (c:\\users\\acer\\appdata\\local\\programs\\python\\python310\\lib\\site-packages)\n",
      "\n",
      "[notice] A new release of pip available: 22.2.1 -> 25.1\n",
      "[notice] To update, run: python.exe -m pip install --upgrade pip\n"
     ]
    }
   ],
   "source": [
    "!pip install nltk\n"
   ]
  },
  {
   "cell_type": "code",
   "execution_count": 3,
   "id": "849c8c17",
   "metadata": {},
   "outputs": [
    {
     "name": "stdout",
     "output_type": "stream",
     "text": [
      "BLEU Score: 0.6147881529512643\n"
     ]
    }
   ],
   "source": [
    "from nltk.translate.bleu_score import sentence_bleu\n",
    "\n",
    "# Example: Reference text and generated text\n",
    "reference = [[\"The\", \"price\", \"of\", \"BTC\", \"is\", \"rising\", \"quickly.\"]]\n",
    "generated = [\"The\", \"price\", \"of\", \"BTC\", \"is\", \"increasing\", \"rapidly.\"]\n",
    "\n",
    "# Calculate BLEU score (using 1-gram and 2-gram)\n",
    "score = sentence_bleu(reference, generated)\n",
    "print(f\"BLEU Score: {score}\")\n"
   ]
  }
 ],
 "metadata": {
  "kernelspec": {
   "display_name": "Python 3",
   "language": "python",
   "name": "python3"
  },
  "language_info": {
   "codemirror_mode": {
    "name": "ipython",
    "version": 3
   },
   "file_extension": ".py",
   "mimetype": "text/x-python",
   "name": "python",
   "nbconvert_exporter": "python",
   "pygments_lexer": "ipython3",
   "version": "3.10.6"
  }
 },
 "nbformat": 4,
 "nbformat_minor": 5
}
