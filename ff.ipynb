{
 "cells": [
  {
   "cell_type": "code",
   "execution_count": 3,
   "metadata": {},
   "outputs": [
    {
     "name": "stderr",
     "output_type": "stream",
     "text": [
      "The PDF <_io.BufferedReader name='downloaded_pdfs\\\\FDUSD-Whitepaper-25216064ca0cc8.pdf'> contains a metadata field indicating that it should not allow text extraction. Ignoring this field and proceeding. Use the check_extractable if you want to raise an error in this case\n"
     ]
    },
    {
     "name": "stdout",
     "output_type": "stream",
     "text": [
      "                                             File Name  \\\n",
      "0         0100258fa8b4509511de397d0a727800a4bc0e68.pdf   \n",
      "1         01ca8da6bc1ed65c62f953f91407fc041a9766ab.pdf   \n",
      "2         022636bb98491e153625895419bdfda50f2b5219.pdf   \n",
      "3         0275b8b9a756586537888872446855594bc59e68.pdf   \n",
      "4         02b2a7b96372e79cf822ae9a60129789a4efd6c4.pdf   \n",
      "..                                                 ...   \n",
      "762                         wpiea2023144-print-pdf.pdf   \n",
      "763                                   yellow-paper.pdf   \n",
      "764                         YGG-Whitepaper-English.pdf   \n",
      "765  zkEVM_and_the_Future_of_Ethereum_Scaling_Stefa...   \n",
      "766                              zkLink-whitepaper.pdf   \n",
      "\n",
      "                                               Content               Category  \n",
      "0    Protocol Reporting\\nApril 26, 2023\\nMATIC\\n\\nS...             Whitepaper  \n",
      "1    Protocol Reporting\\nMay 31, 2023\\nStacks (STX)...             Whitepaper  \n",
      "2    December 1, 2024\\n\\nVenus, (XVS)\\n\\nQuarterly ...             Whitepaper  \n",
      "3    February 19, 2024 \\n\\nManta Network, (MANTA) \\...       Exchange Reports  \n",
      "4    December 9, 2024\\n\\nHelium, (HNT)\\n\\nQuarterly...               Research  \n",
      "..                                                 ...                    ...  \n",
      "762  Taxing Cryptocurrencies \\n\\nKatherine Baer, Ru...       Taxation Reports  \n",
      "763  Arweave: A Protocol for Economically Sustainab...             Whitepaper  \n",
      "764  1\\n\\n\fAcknowledgments\\n\\nThis document was las...            NFT Reports  \n",
      "765  zkEVMand the Future of Ethereum Scaling\\n\\nSte...  Project Documentation  \n",
      "766  zkLink: An Aggregated Rollup Infrastructure \\n...       Exchange Reports  \n",
      "\n",
      "[767 rows x 3 columns]\n"
     ]
    }
   ],
   "source": [
    "import os\n",
    "import pandas as pd\n",
    "from pdfminer.high_level import extract_text\n",
    "from sklearn.feature_extraction.text import TfidfVectorizer\n",
    "from sklearn.linear_model import LogisticRegression\n",
    "import joblib\n",
    "\n",
    "CATEGORIES = {\n",
    "    \"Whitepaper\": [\"whitepaper\", \"protocol\", \"consensus\", \"blockchain\"],\n",
    "    \"Research\": [\"research\", \"study\", \"academic\", \"analysis\"],\n",
    "    \"Regulatory\": [\"compliance\", \"regulation\", \"legal\", \"SEC\", \"AML\", \"KYC\"],\n",
    "    \"Project Documentation\": [\"API\", \"developer\", \"documentation\", \"smart contract\"],\n",
    "    \"Exchange Reports\": [\"trading\", \"market\", \"liquidity\", \"exchange\"],\n",
    "    \"ICO Documents\": [\"ICO\", \"IEO\", \"STO\", \"tokenomics\", \"fundraising\"],\n",
    "    \"NFT Reports\": [\"NFT\", \"non-fungible\", \"metaverse\", \"digital art\"],\n",
    "    \"Security Reports\": [\"security\", \"audit\", \"vulnerability\", \"hack\"],\n",
    "    \"DeFi Reports\": [\"DeFi\", \"liquidity pool\", \"yield farming\"],\n",
    "    \"Taxation Reports\": [\"tax\", \"accounting\", \"audit\", \"IRS\"],\n",
    "}\n",
    "\n",
    "CATEGORY_LABELS = list(CATEGORIES.keys())\n",
    "\n",
    "def extract_text_from_pdf(pdf_path):\n",
    "    try:\n",
    "        text = extract_text(pdf_path)\n",
    "        return text.strip()\n",
    "    except Exception as e:\n",
    "        print(f\"Error extracting text from {pdf_path}: {e}\")\n",
    "        return \"\"\n",
    "\n",
    "def train_model():\n",
    "    data = []\n",
    "    labels = []\n",
    "    \n",
    "    for category, keywords in CATEGORIES.items():\n",
    "        for keyword in keywords:\n",
    "            data.append(keyword)\n",
    "            labels.append(category)\n",
    "    \n",
    "    vectorizer = TfidfVectorizer()\n",
    "    X = vectorizer.fit_transform(data)\n",
    "    model = LogisticRegression()\n",
    "    model.fit(X, labels)\n",
    "    \n",
    "    joblib.dump((vectorizer, model), \"text_classifier.pkl\")\n",
    "    print(\"Model trained and saved.\")\n",
    "\n",
    "def load_model():\n",
    "    return joblib.load(\"text_classifier.pkl\")\n",
    "\n",
    "def classify_text(text):\n",
    "    if not text:\n",
    "        return \"Unknown\"\n",
    "    \n",
    "    vectorizer, model = load_model()\n",
    "    X = vectorizer.transform([text])\n",
    "    return model.predict(X)[0]\n",
    "\n",
    "def classify_pdfs_in_folder(folder_path):\n",
    "    data = []\n",
    "    \n",
    "    for file_name in os.listdir(folder_path):\n",
    "        if file_name.endswith(\".pdf\"):\n",
    "            pdf_path = os.path.join(folder_path, file_name)\n",
    "            content = extract_text_from_pdf(pdf_path)\n",
    "            category = classify_text(content)\n",
    "            data.append([file_name, content, category])\n",
    "    \n",
    "    df = pd.DataFrame(data, columns=[\"File Name\", \"Content\", \"Category\"])\n",
    "    print(df)\n",
    "    return df\n",
    "\n",
    "\n",
    "if not os.path.exists(\"text_classifier.pkl\"):\n",
    "    train_model()\n",
    "folder_path = \"downloaded_pdfs\"  \n",
    "df=classify_pdfs_in_folder(folder_path)"
   ]
  },
  {
   "cell_type": "code",
   "execution_count": 4,
   "metadata": {},
   "outputs": [
    {
     "data": {
      "text/plain": [
       "Category\n",
       "Whitepaper               242\n",
       "Exchange Reports         238\n",
       "Security Reports          65\n",
       "NFT Reports               49\n",
       "Project Documentation     48\n",
       "Research                  44\n",
       "Regulatory                40\n",
       "DeFi Reports              20\n",
       "Unknown                   14\n",
       "ICO Documents              6\n",
       "Taxation Reports           1\n",
       "Name: count, dtype: int64"
      ]
     },
     "execution_count": 4,
     "metadata": {},
     "output_type": "execute_result"
    }
   ],
   "source": [
    "df[\"Category\"].value_counts()"
   ]
  }
 ],
 "metadata": {
  "kernelspec": {
   "display_name": "Python 3",
   "language": "python",
   "name": "python3"
  },
  "language_info": {
   "codemirror_mode": {
    "name": "ipython",
    "version": 3
   },
   "file_extension": ".py",
   "mimetype": "text/x-python",
   "name": "python",
   "nbconvert_exporter": "python",
   "pygments_lexer": "ipython3",
   "version": "3.11.0"
  }
 },
 "nbformat": 4,
 "nbformat_minor": 2
}
