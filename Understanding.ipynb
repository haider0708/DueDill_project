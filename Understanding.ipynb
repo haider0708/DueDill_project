{
 "cells": [
  {
   "cell_type": "markdown",
   "id": "03155616-b762-4e60-b2ba-5b4397b8ee76",
   "metadata": {},
   "source": [
    "Data scraping and understanding "
   ]
  },
  {
   "cell_type": "code",
   "execution_count": 26,
   "id": "1f48a8e4-5d5b-4bdc-9d94-9feef5c99fb8",
   "metadata": {},
   "outputs": [],
   "source": [
    "from selenium import webdriver\n",
    "from selenium.webdriver.chrome.service import Service\n",
    "from selenium.webdriver.common.by import By\n",
    "from selenium.webdriver.chrome.options import Options\n",
    "from selenium.webdriver.support.ui import WebDriverWait\n",
    "from selenium.webdriver.support import expected_conditions as EC\n",
    "import pandas as pd"
   ]
  },
  {
   "cell_type": "code",
   "execution_count": 5,
   "id": "fd0bc6e2-4b33-42c0-88e9-b30b13f8ce70",
   "metadata": {},
   "outputs": [
    {
     "name": "stdout",
     "output_type": "stream",
     "text": [
      " Tableau trouvé !\n",
      "   Nom               Prix Changement 24h Market Cap Volume 24h     Supply\n",
      "0    1       Bitcoin\\nBTC       $ 94,945        N/A    $ 1.88T   $ 16.49B\n",
      "1    2      Ethereum\\nETH        $ 2,654        N/A  $ 319.32B   $ 10.05B\n",
      "2    3           XRP\\nXRP         $ 2.54        N/A  $ 146.25B    $ 3.16B\n",
      "3    4       Tether\\nUSDT        $ 0.999        N/A  $ 141.69B   $ 41.76B\n",
      "4    5           BNB\\nBNB       $ 643.27        N/A   $ 93.77B  $ 699.32M\n",
      "..  ..                ...            ...        ...        ...        ...\n",
      "95      PancakeSwap\\nCAKE         $ 2.52                                 \n",
      "96      Tether Gold\\nXAUT        $ 2,928                                 \n",
      "97             Kaia\\nKAIA        $ 0.122                                 \n",
      "98          Onyxcoin\\nXCN        $ 0.021                                 \n",
      "99      PayPal USD\\nPYUSD         $ 1.00                                 \n",
      "\n",
      "[100 rows x 6 columns]\n",
      "Données sauvegardées dans 'crypto_data.csv'.\n",
      " WebDriver fermé.\n"
     ]
    }
   ],
   "source": [
    "\n",
    "\n",
    "# hemin du WebDriver \n",
    "webdriver_path = r\"C:\\Users\\NOURA\\Downloads\\chromedriver-win64\\chromedriver.exe\"\n",
    "\n",
    "# Configuration de Selenium\n",
    "chrome_options = Options()\n",
    "chrome_options.add_argument(\"--headless\")  # Mode sans interface graphique\n",
    "chrome_options.add_argument(\"--disable-gpu\")  # Désactiver le GPU pour éviter certains bugs\n",
    "chrome_options.add_argument(\"--no-sandbox\")  # Évite certains problèmes de permission\n",
    "chrome_options.add_argument(\"--disable-dev-shm-usage\")  # Réduit l'utilisation de la mémoire partagée\n",
    "chrome_options.add_argument(\"user-agent=Mozilla/5.0 (Windows NT 10.0; Win64; x64) AppleWebKit/537.36 (KHTML, like Gecko) Chrome/114.0.0.0 Safari/537.36\")\n",
    "\n",
    "# Démarrer WebDriver\n",
    "service = Service(webdriver_path)\n",
    "driver = webdriver.Chrome(service=service, options=chrome_options)\n",
    "\n",
    "try:\n",
    "    #Accéder à la page\n",
    "    url = \"https://cryptorank.io/all-coins-list\"\n",
    "    driver.get(url)\n",
    "\n",
    "    # Attendre que le tableau apparaisse\n",
    "    try:\n",
    "        WebDriverWait(driver, 10).until(EC.presence_of_element_located((By.TAG_NAME, \"table\")))\n",
    "        print(\" Tableau trouvé !\")\n",
    "    except:\n",
    "        print(\"Erreur : Tableau non trouvé.\")\n",
    "        exit()\n",
    "\n",
    "    # Trouver toutes les lignes du tableau\n",
    "    rows = driver.find_elements(By.XPATH, \"//table//tbody//tr\")\n",
    "\n",
    "    # extraction des données\n",
    "    data = []\n",
    "    for row in rows:\n",
    "        columns = row.find_elements(By.TAG_NAME, \"td\")\n",
    "        if len(columns) > 6:  # Vérifier qu'il y a bien toutes les colonnes nécessaires\n",
    "            data.append([\n",
    "                columns[1].text.strip(),  # Nom\n",
    "                columns[2].text.strip(),  # Prix\n",
    "                columns[3].text.strip(),  # Changement 24h\n",
    "                columns[4].text.strip(),  # Market Cap\n",
    "                columns[5].text.strip(),  # Volume 24h\n",
    "                columns[6].text.strip()   # Supply\n",
    "            ])\n",
    "\n",
    "    # Conversion en DataFrame\n",
    "    df = pd.DataFrame(data, columns=[\"Nom\", \"Prix\", \"Changement 24h\", \"Market Cap\", \"Volume 24h\", \"Supply\"])\n",
    "\n",
    "    # Afficher le DataFrame\n",
    "    print(df)\n",
    "\n",
    "    # Sauvegarde des données (optionnel)\n",
    "    df.to_csv(\"crypto_data.csv\", index=False, encoding=\"utf-8\")\n",
    "    print(\"Données sauvegardées dans 'crypto_data.csv'.\")\n",
    "\n",
    "except Exception as e:\n",
    "    print(f\" Erreur : {e}\")\n",
    "\n",
    "finally:\n",
    "    # Fermer le driver proprement\n",
    "    driver.quit()\n",
    "    print(\" WebDriver fermé.\")\n"
   ]
  },
  {
   "cell_type": "code",
   "execution_count": 7,
   "id": "7900fcc6-5f0a-4bc8-a74a-8d215e71cdc6",
   "metadata": {},
   "outputs": [],
   "source": [
    "import pandas as pd\n",
    "import matplotlib.pyplot as plt\n",
    "import seaborn as sns"
   ]
  },
  {
   "cell_type": "code",
   "execution_count": 9,
   "id": "94c42bf9-4028-4c27-91b1-1f66320026e3",
   "metadata": {},
   "outputs": [
    {
     "name": "stdout",
     "output_type": "stream",
     "text": [
      " Aperçu des premières lignes :\n",
      "   Nom           Prix Changement 24h  Market Cap Volume 24h     Supply\n",
      "0  1.0   Bitcoin\\nBTC       $ 94,945         NaN    $ 1.88T   $ 16.49B\n",
      "1  2.0  Ethereum\\nETH        $ 2,654         NaN  $ 319.32B   $ 10.05B\n",
      "2  3.0       XRP\\nXRP         $ 2.54         NaN  $ 146.25B    $ 3.16B\n",
      "3  4.0   Tether\\nUSDT        $ 0.999         NaN  $ 141.69B   $ 41.76B\n",
      "4  5.0       BNB\\nBNB       $ 643.27         NaN   $ 93.77B  $ 699.32M\n",
      "\n",
      " Informations sur les données :\n",
      "<class 'pandas.core.frame.DataFrame'>\n",
      "RangeIndex: 100 entries, 0 to 99\n",
      "Data columns (total 6 columns):\n",
      " #   Column          Non-Null Count  Dtype  \n",
      "---  ------          --------------  -----  \n",
      " 0   Nom             10 non-null     float64\n",
      " 1   Prix            100 non-null    object \n",
      " 2   Changement 24h  100 non-null    object \n",
      " 3   Market Cap      0 non-null      float64\n",
      " 4   Volume 24h      10 non-null     object \n",
      " 5   Supply          10 non-null     object \n",
      "dtypes: float64(2), object(4)\n",
      "memory usage: 4.8+ KB\n",
      "None\n"
     ]
    }
   ],
   "source": [
    "\n",
    "\n",
    "#  Charger les données\n",
    "df = pd.read_csv(\"crypto_data.csv\")\n",
    "\n",
    "#  Aperçu général des données\n",
    "print(\" Aperçu des premières lignes :\")\n",
    "print(df.head())\n",
    "\n",
    "print(\"\\n Informations sur les données :\")\n",
    "print(df.info())\n",
    "\n",
    "\n"
   ]
  },
  {
   "cell_type": "code",
   "execution_count": 13,
   "id": "82118e3b-5c1f-4dbf-adf7-329269d1a465",
   "metadata": {},
   "outputs": [
    {
     "data": {
      "text/html": [
       "<div>\n",
       "<style scoped>\n",
       "    .dataframe tbody tr th:only-of-type {\n",
       "        vertical-align: middle;\n",
       "    }\n",
       "\n",
       "    .dataframe tbody tr th {\n",
       "        vertical-align: top;\n",
       "    }\n",
       "\n",
       "    .dataframe thead th {\n",
       "        text-align: right;\n",
       "    }\n",
       "</style>\n",
       "<table border=\"1\" class=\"dataframe\">\n",
       "  <thead>\n",
       "    <tr style=\"text-align: right;\">\n",
       "      <th></th>\n",
       "      <th>Nom</th>\n",
       "      <th>Prix</th>\n",
       "      <th>Changement 24h</th>\n",
       "      <th>Market Cap</th>\n",
       "      <th>Volume 24h</th>\n",
       "      <th>Supply</th>\n",
       "    </tr>\n",
       "  </thead>\n",
       "  <tbody>\n",
       "    <tr>\n",
       "      <th>0</th>\n",
       "      <td>1.0</td>\n",
       "      <td>Bitcoin\\nBTC</td>\n",
       "      <td>$ 94,945</td>\n",
       "      <td>NaN</td>\n",
       "      <td>$ 1.88T</td>\n",
       "      <td>$ 16.49B</td>\n",
       "    </tr>\n",
       "    <tr>\n",
       "      <th>1</th>\n",
       "      <td>2.0</td>\n",
       "      <td>Ethereum\\nETH</td>\n",
       "      <td>$ 2,654</td>\n",
       "      <td>NaN</td>\n",
       "      <td>$ 319.32B</td>\n",
       "      <td>$ 10.05B</td>\n",
       "    </tr>\n",
       "    <tr>\n",
       "      <th>2</th>\n",
       "      <td>3.0</td>\n",
       "      <td>XRP\\nXRP</td>\n",
       "      <td>$ 2.54</td>\n",
       "      <td>NaN</td>\n",
       "      <td>$ 146.25B</td>\n",
       "      <td>$ 3.16B</td>\n",
       "    </tr>\n",
       "    <tr>\n",
       "      <th>3</th>\n",
       "      <td>4.0</td>\n",
       "      <td>Tether\\nUSDT</td>\n",
       "      <td>$ 0.999</td>\n",
       "      <td>NaN</td>\n",
       "      <td>$ 141.69B</td>\n",
       "      <td>$ 41.76B</td>\n",
       "    </tr>\n",
       "    <tr>\n",
       "      <th>4</th>\n",
       "      <td>5.0</td>\n",
       "      <td>BNB\\nBNB</td>\n",
       "      <td>$ 643.27</td>\n",
       "      <td>NaN</td>\n",
       "      <td>$ 93.77B</td>\n",
       "      <td>$ 699.32M</td>\n",
       "    </tr>\n",
       "  </tbody>\n",
       "</table>\n",
       "</div>"
      ],
      "text/plain": [
       "   Nom           Prix Changement 24h  Market Cap Volume 24h     Supply\n",
       "0  1.0   Bitcoin\\nBTC       $ 94,945         NaN    $ 1.88T   $ 16.49B\n",
       "1  2.0  Ethereum\\nETH        $ 2,654         NaN  $ 319.32B   $ 10.05B\n",
       "2  3.0       XRP\\nXRP         $ 2.54         NaN  $ 146.25B    $ 3.16B\n",
       "3  4.0   Tether\\nUSDT        $ 0.999         NaN  $ 141.69B   $ 41.76B\n",
       "4  5.0       BNB\\nBNB       $ 643.27         NaN   $ 93.77B  $ 699.32M"
      ]
     },
     "execution_count": 13,
     "metadata": {},
     "output_type": "execute_result"
    }
   ],
   "source": [
    "df.head()"
   ]
  },
  {
   "cell_type": "code",
   "execution_count": 15,
   "id": "f40e2909-b59b-4d9f-bcbd-f541209f6f28",
   "metadata": {},
   "outputs": [
    {
     "data": {
      "text/plain": [
       "(100, 6)"
      ]
     },
     "execution_count": 15,
     "metadata": {},
     "output_type": "execute_result"
    }
   ],
   "source": [
    "df.shape "
   ]
  },
  {
   "cell_type": "code",
   "execution_count": 17,
   "id": "27d0a6bb-5a7f-4967-bd64-284aa6aa39d1",
   "metadata": {},
   "outputs": [
    {
     "data": {
      "text/plain": [
       "Nom               float64\n",
       "Prix               object\n",
       "Changement 24h     object\n",
       "Market Cap        float64\n",
       "Volume 24h         object\n",
       "Supply             object\n",
       "dtype: object"
      ]
     },
     "execution_count": 17,
     "metadata": {},
     "output_type": "execute_result"
    }
   ],
   "source": [
    "df.dtypes"
   ]
  },
  {
   "cell_type": "code",
   "execution_count": 19,
   "id": "5d36a3cb-26d5-466d-aa05-81ec232b55ad",
   "metadata": {},
   "outputs": [
    {
     "data": {
      "text/plain": [
       "Nom                90\n",
       "Prix                0\n",
       "Changement 24h      0\n",
       "Market Cap        100\n",
       "Volume 24h         90\n",
       "Supply             90\n",
       "dtype: int64"
      ]
     },
     "execution_count": 19,
     "metadata": {},
     "output_type": "execute_result"
    }
   ],
   "source": [
    "#Identifier les nbres manquantes(NaN)\n",
    "df.isna().sum()"
   ]
  },
  {
   "cell_type": "code",
   "execution_count": 21,
   "id": "d5c245b8-bf24-443f-8a43-4cf203da0d5c",
   "metadata": {},
   "outputs": [
    {
     "data": {
      "text/html": [
       "<div>\n",
       "<style scoped>\n",
       "    .dataframe tbody tr th:only-of-type {\n",
       "        vertical-align: middle;\n",
       "    }\n",
       "\n",
       "    .dataframe tbody tr th {\n",
       "        vertical-align: top;\n",
       "    }\n",
       "\n",
       "    .dataframe thead th {\n",
       "        text-align: right;\n",
       "    }\n",
       "</style>\n",
       "<table border=\"1\" class=\"dataframe\">\n",
       "  <thead>\n",
       "    <tr style=\"text-align: right;\">\n",
       "      <th></th>\n",
       "      <th>Nom</th>\n",
       "      <th>Market Cap</th>\n",
       "    </tr>\n",
       "  </thead>\n",
       "  <tbody>\n",
       "    <tr>\n",
       "      <th>count</th>\n",
       "      <td>10.00000</td>\n",
       "      <td>0.0</td>\n",
       "    </tr>\n",
       "    <tr>\n",
       "      <th>mean</th>\n",
       "      <td>5.50000</td>\n",
       "      <td>NaN</td>\n",
       "    </tr>\n",
       "    <tr>\n",
       "      <th>std</th>\n",
       "      <td>3.02765</td>\n",
       "      <td>NaN</td>\n",
       "    </tr>\n",
       "    <tr>\n",
       "      <th>min</th>\n",
       "      <td>1.00000</td>\n",
       "      <td>NaN</td>\n",
       "    </tr>\n",
       "    <tr>\n",
       "      <th>25%</th>\n",
       "      <td>3.25000</td>\n",
       "      <td>NaN</td>\n",
       "    </tr>\n",
       "    <tr>\n",
       "      <th>50%</th>\n",
       "      <td>5.50000</td>\n",
       "      <td>NaN</td>\n",
       "    </tr>\n",
       "    <tr>\n",
       "      <th>75%</th>\n",
       "      <td>7.75000</td>\n",
       "      <td>NaN</td>\n",
       "    </tr>\n",
       "    <tr>\n",
       "      <th>max</th>\n",
       "      <td>10.00000</td>\n",
       "      <td>NaN</td>\n",
       "    </tr>\n",
       "  </tbody>\n",
       "</table>\n",
       "</div>"
      ],
      "text/plain": [
       "            Nom  Market Cap\n",
       "count  10.00000         0.0\n",
       "mean    5.50000         NaN\n",
       "std     3.02765         NaN\n",
       "min     1.00000         NaN\n",
       "25%     3.25000         NaN\n",
       "50%     5.50000         NaN\n",
       "75%     7.75000         NaN\n",
       "max    10.00000         NaN"
      ]
     },
     "execution_count": 21,
     "metadata": {},
     "output_type": "execute_result"
    }
   ],
   "source": [
    "df.describe()"
   ]
  },
  {
   "cell_type": "markdown",
   "id": "aebe8b89-3334-4fae-816a-bd7262659b9c",
   "metadata": {},
   "source": [
    "count → Nombre de valeurs non nulles (10 pour \"Nom\", 0 pour \"Market Cap\").\n",
    "mean → Moyenne des valeurs de la colonne \"Nom\" (5.5).\n",
    "std → Écart-type (3.02765), mesure de dispersion des valeurs.\n",
    "min → Valeur minimale de la colonne \"Nom\" (1).\n",
    "25%, 50%, 75% → Quartiles (médailles de classement des valeurs).\n",
    "max → Valeur maximale de la colonne \"Nom\" (10).\n",
    " \"Market Cap\" est NaN  il ya des valeurs sont manquantes (NaN).\n",
    "et  c'est une colonne texte (ex: \"$1,000,000,000\"), et df.describe() ignore les chaînes de caractères."
   ]
  },
  {
   "cell_type": "code",
   "execution_count": 23,
   "id": "3f9d200e-2e9e-4a26-a9a9-670fc9c2701f",
   "metadata": {},
   "outputs": [
    {
     "name": "stdout",
     "output_type": "stream",
     "text": [
      "<class 'pandas.core.frame.DataFrame'>\n",
      "RangeIndex: 100 entries, 0 to 99\n",
      "Data columns (total 6 columns):\n",
      " #   Column          Non-Null Count  Dtype  \n",
      "---  ------          --------------  -----  \n",
      " 0   Nom             10 non-null     float64\n",
      " 1   Prix            100 non-null    object \n",
      " 2   Changement 24h  100 non-null    object \n",
      " 3   Market Cap      0 non-null      float64\n",
      " 4   Volume 24h      10 non-null     object \n",
      " 5   Supply          10 non-null     object \n",
      "dtypes: float64(2), object(4)\n",
      "memory usage: 4.8+ KB\n"
     ]
    }
   ],
   "source": [
    "df.info()"
   ]
  },
  {
   "cell_type": "code",
   "execution_count": 29,
   "id": "6b6ca5cf-6a92-45d5-b53b-235efb81a43a",
   "metadata": {},
   "outputs": [
    {
     "name": "stdout",
     "output_type": "stream",
     "text": [
      "Nom                90\n",
      "Prix                0\n",
      "Changement 24h      0\n",
      "Market Cap        100\n",
      "Volume 24h         90\n",
      "Supply             90\n",
      "dtype: int64\n"
     ]
    }
   ],
   "source": [
    "print(df.isnull().sum())\n"
   ]
  },
  {
   "cell_type": "code",
   "execution_count": 31,
   "id": "ace43bdc-84f5-48a0-9619-4f115fef68fb",
   "metadata": {},
   "outputs": [],
   "source": [
    "#Nettoyage des données\n",
    "# Supprimer les lignes où il manque des valeurs\n",
    "df = df.dropna()"
   ]
  },
  {
   "cell_type": "code",
   "execution_count": 33,
   "id": "2ffd178e-81b4-40f2-b356-9db4095e2c72",
   "metadata": {},
   "outputs": [
    {
     "name": "stdout",
     "output_type": "stream",
     "text": [
      "\n",
      " Données nettoyées !\n"
     ]
    }
   ],
   "source": [
    "# Conversion des colonnes numériques\n",
    "def convert_price(value):\n",
    "    try:\n",
    "        return float(value.replace(\"$\", \"\").replace(\",\", \"\"))\n",
    "    except:\n",
    "        return None\n",
    "\n",
    "df[\"Prix\"] = df[\"Prix\"].apply(convert_price)\n",
    "df[\"Market Cap\"] = df[\"Market Cap\"].apply(convert_price)\n",
    "df[\"Volume 24h\"] = df[\"Volume 24h\"].apply(convert_price)\n",
    "\n",
    "# Convertir la variation 24h en pourcentage\n",
    "df[\"Changement 24h\"] = df[\"Changement 24h\"].str.replace(\"%\", \"\").astype(float)\n",
    "\n",
    "print(\"\\n Données nettoyées !\")\n",
    "\n"
   ]
  },
  {
   "cell_type": "code",
   "execution_count": 41,
   "id": "953d559b-9a9e-4d94-b15b-6d1d1c3b25ab",
   "metadata": {},
   "outputs": [],
   "source": [
    "import requests\n",
    "import pandas as pd\n",
    "import matplotlib.pyplot as plt\n",
    "\n",
    "# Fonction pour récupérer les données de prix historiques\n",
    "def get_crypto_prices(crypto_id=\"bitcoin\", days=30, currency=\"usd\"):\n",
    "    url = f\"https://api.coingecko.com/api/v3/coins/{crypto_id}/market_chart\"\n",
    "    params = {\n",
    "        \"vs_currency\": currency,\n",
    "        \"days\": days,\n",
    "        \"interval\": \"daily\"\n",
    "    }\n",
    "    response = requests.get(url, params=params)\n",
    "    data = response.json()\n",
    "    \n",
    "    # Convertir en DataFrame\n",
    "    prices = data[\"prices\"]\n",
    "    df = pd.DataFrame(prices, columns=[\"timestamp\", \"price\"])\n",
    "    df[\"timestamp\"] = pd.to_datetime(df[\"timestamp\"], unit=\"ms\")  # Convertir en date\n",
    "    return df\n",
    "\n",
    "# Récupérer les prix de Bitcoin sur 30 jours\n",
    "df = get_crypto_prices(\"bitcoin\", 30)\n",
    "\n"
   ]
  },
  {
   "cell_type": "code",
   "execution_count": 45,
   "id": "b86b4ba4-219e-4683-988a-31f867b1b037",
   "metadata": {},
   "outputs": [
    {
     "data": {
      "text/plain": [
       "<bound method NDFrame.head of              timestamp          price\n",
       "0  2025-01-21 00:00:00  101764.908602\n",
       "1  2025-01-22 00:00:00  106182.236820\n",
       "2  2025-01-23 00:00:00  103673.535095\n",
       "3  2025-01-24 00:00:00  104067.609912\n",
       "4  2025-01-25 00:00:00  104835.192536\n",
       "5  2025-01-26 00:00:00  104796.040777\n",
       "6  2025-01-27 00:00:00  102552.248743\n",
       "7  2025-01-28 00:00:00  101958.469537\n",
       "8  2025-01-29 00:00:00  101313.112645\n",
       "9  2025-01-30 00:00:00  103718.979398\n",
       "10 2025-01-31 00:00:00  104781.513510\n",
       "11 2025-02-01 00:00:00  102382.394097\n",
       "12 2025-02-02 00:00:00  100674.787625\n",
       "13 2025-02-03 00:00:00   97568.316530\n",
       "14 2025-02-04 00:00:00  101466.860666\n",
       "15 2025-02-05 00:00:00   98118.439217\n",
       "16 2025-02-06 00:00:00   96582.886829\n",
       "17 2025-02-07 00:00:00   96635.418753\n",
       "18 2025-02-08 00:00:00   96558.456310\n",
       "19 2025-02-09 00:00:00   96558.237625\n",
       "20 2025-02-10 00:00:00   96548.578654\n",
       "21 2025-02-11 00:00:00   97399.981614\n",
       "22 2025-02-12 00:00:00   95739.977371\n",
       "23 2025-02-13 00:00:00   97836.188561\n",
       "24 2025-02-14 00:00:00   96561.663999\n",
       "25 2025-02-15 00:00:00   97488.481485\n",
       "26 2025-02-16 00:00:00   97569.951694\n",
       "27 2025-02-17 00:00:00   96149.348455\n",
       "28 2025-02-18 00:00:00   95776.157239\n",
       "29 2025-02-19 00:00:00   95495.891533\n",
       "30 2025-02-19 00:37:45   95532.380283>"
      ]
     },
     "execution_count": 45,
     "metadata": {},
     "output_type": "execute_result"
    }
   ],
   "source": [
    "# Afficher les premières lignes\n",
    "df.head"
   ]
  },
  {
   "cell_type": "code",
   "execution_count": 43,
   "id": "e2fd56c0-84e2-4788-a525-35a1acf4055e",
   "metadata": {},
   "outputs": [
    {
     "data": {
      "image/png": "[encoded data removed]",
      "text/plain": [
       "<Figure size 1000x500 with 1 Axes>"
      ]
     },
     "metadata": {},
     "output_type": "display_data"
    }
   ],
   "source": [
    "# Afficher les premières lignes\n",
    "df.head\n",
    "\n",
    "# Tracer l'évolution du prix\n",
    "plt.figure(figsize=(10,5))\n",
    "plt.plot(df[\"timestamp\"], df[\"price\"], marker=\"o\", linestyle=\"-\", color=\"b\")\n",
    "plt.xlabel(\"Date\")\n",
    "plt.ylabel(\"Prix (USD)\")\n",
    "plt.title(\"Évolution du prix de Bitcoin sur 30 jours\")\n",
    "plt.grid()\n",
    "plt.xticks(rotation=45)\n",
    "plt.show()\n",
    "\n"
   ]
  },
  {
   "cell_type": "code",
   "execution_count": 51,
   "id": "f9530cab-d013-4cd2-8b5f-12237edbb6b2",
   "metadata": {},
   "outputs": [
    {
     "name": "stdout",
     "output_type": "stream",
     "text": [
      "   timestamp          price\n",
      "0 2025-01-21  101764.908602\n",
      "1 2025-01-22  106182.236820\n",
      "2 2025-01-23  103673.535095\n",
      "3 2025-01-24  104067.609912\n",
      "4 2025-01-25  104835.192536\n"
     ]
    },
    {
     "data": {
      "image/png": "[encoded data removed]",
      "text/plain": [
       "<Figure size 1000x500 with 1 Axes>"
      ]
     },
     "metadata": {},
     "output_type": "display_data"
    }
   ],
   "source": [
    "import requests\n",
    "import pandas as pd\n",
    "import matplotlib.pyplot as plt\n",
    "\n",
    "# Fonction pour récupérer les données de prix historiques\n",
    "def get_crypto_prices(crypto_id=\"bitcoin\", days=30, currency=\"usd\"):\n",
    "    url = f\"https://api.coingecko.com/api/v3/coins/{crypto_id}/market_chart\"\n",
    "    params = {\n",
    "        \"vs_currency\": currency,\n",
    "        \"days\": days,\n",
    "        \"interval\": \"daily\"\n",
    "    }\n",
    "    response = requests.get(url, params=params)\n",
    "    data = response.json()\n",
    "    \n",
    "    # Convertir en DataFrame\n",
    "    prices = data[\"prices\"]\n",
    "    df = pd.DataFrame(prices, columns=[\"timestamp\", \"price\"])\n",
    "    df[\"timestamp\"] = pd.to_datetime(df[\"timestamp\"], unit=\"ms\")  # Convertir en date\n",
    "    return df\n",
    "\n",
    "# Récupérer les prix de Bitcoin sur 30 jours\n",
    "df = get_crypto_prices(\"bitcoin\", 30)\n",
    "\n",
    "# Afficher les premières lignes\n",
    "print(df.head())\n",
    "\n",
    "# Tracer l'évolution du prix\n",
    "plt.figure(figsize=(10,5))\n",
    "plt.plot(df[\"timestamp\"], df[\"price\"], marker=\"o\", linestyle=\"-\", color=\"b\")\n",
    "plt.xlabel(\"Date\")\n",
    "plt.ylabel(\"Prix (USD)\")\n",
    "plt.title(\"Évolution du prix de Bitcoin sur 30 jours\")\n",
    "plt.grid()\n",
    "plt.xticks(rotation=45)\n",
    "plt.show()\n"
   ]
  },
  {
   "cell_type": "code",
   "execution_count": null,
   "id": "5a7bc2f2-8fd1-42a0-b4cc-4a19b4c0d6e3",
   "metadata": {},
   "outputs": [],
   "source": []
  }
 ],
 "metadata": {
  "kernelspec": {
   "display_name": "Python 3 (ipykernel)",
   "language": "python",
   "name": "python3"
  },
  "language_info": {
   "codemirror_mode": {
    "name": "ipython",
    "version": 3
   },
   "file_extension": ".py",
   "mimetype": "text/x-python",
   "name": "python",
   "nbconvert_exporter": "python",
   "pygments_lexer": "ipython3",
   "version": "3.12.4"
  }
 },
 "nbformat": 4,
 "nbformat_minor": 5
}
