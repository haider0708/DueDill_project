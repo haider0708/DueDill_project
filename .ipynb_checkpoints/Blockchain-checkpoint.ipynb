{
 "cells": [
  {
   "cell_type": "markdown",
   "id": "f5ac8518-4712-49ce-9b59-b4c01c1bb030",
   "metadata": {},
   "source": [
    "<h1 style=\"color: red;\"> Extraction de Données à partir de la Blockchain</h1>"
   ]
  },
  {
   "cell_type": "markdown",
   "id": "f3a51984-611f-4ec7-bdcb-49f7d18dc359",
   "metadata": {},
   "source": [
    "<h1 style=\"color: bleu;\"> BlockChain Undersatanding </h1>"
   ]
  },
  {
   "cell_type": "markdown",
   "id": "39e275fb-545a-41a8-9dd5-6cceb498fa78",
   "metadata": {},
   "source": [
    "Une base de données décentralisée(distribuée sur plusieurs nœuds) qui stocke des transactions de manière sécurisée et transparente .\n",
    "Les types des donnéés sont :\n",
    "* Les Transactions (\"Expéditeur, destinataire, montant, timestamp, frais de transaction\")\n",
    "  \n",
    "*Historique des prix(\"Bitcoin → Prix depuis 2015\")\n",
    "\n",
    "*Volume de trading(\"Volume échangé sur une période donnée:Nombre de BTC échangés en 24h\")\n",
    "\n",
    "*Données des blocs(\"Numéro de bloc, taille, hash, timestamp:[L'horodatage d'une transaction ou d'un bloc, indiquant le moment exact où il a été ajouté à la blockchain]\").\n",
    "\n",
    "*Données des portefeuilles(\"Une version simplifiée de la clé publique, utilisée pour envoyer et recevoir des cryptos\")\n",
    "\n",
    "*Données des smart contracts(\"Un programme informatique exécuté automatiquement lorsqu'une condition est remplie.\")\n"
   ]
  },
  {
   "cell_type": "markdown",
   "id": "a0706e14-eec8-42ac-9a6d-fe67620b557d",
   "metadata": {},
   "source": [
    "<h1 style=\"color: bleu;\">  Analyse et Résumé du PDF : \"Bringing Blockchain Due Diligence into Focus\"</h1>"
   ]
  },
  {
   "cell_type": "markdown",
   "id": "20649a8f-658a-4d2a-8269-14d0ba76d6dc",
   "metadata": {},
   "source": [
    " Données Exploitables du Document"
   ]
  },
  {
   "cell_type": "markdown",
   "id": "dc34d7ec-d19e-44a0-8465-14134e41a55f",
   "metadata": {},
   "source": [
    "+Tendances du marché crypto : \" Ralentissement en 2022-2023, reprise en 2024-2025\"(Sources:CoinGecko, CoinMarketCap, Messari)\n",
    "\n",
    "+Volume des fusions & acquisitions =>(Nombre d’accords et d’investissements dans le secteur blockchain(Sources:Rapports financiers, PitchBook))\n",
    "\n",
    "+Données légales et régulations(Conformité aux règles SEC, CFTC, AML/KYC(Sources(Etherscan, Blockchain.com, régulateurs))\n",
    "\n",
    "+ Sécurité des actifs numériques(Stockage des clés privées, protection des smart contracts(Sources :CertiK, OpenZeppelin))\n",
    "\n",
    "+Données des entreprises blockchain(Analyse des brevets, marques déposées, copyrights liés à la blockchain ( Sources(Google Patents, USPTO))\n",
    "\n",
    "+Risques et sanctions financières(Analyse des sanctions OFAC et des risques juridiques(Source(Département du Trésor des États-Unis))\n",
    "\n"
   ]
  },
  {
   "cell_type": "markdown",
   "id": "7311a9dc-31d3-4310-b585-76a4432e9a48",
   "metadata": {},
   "source": [
    "<h1 style=\"color: bleu;\"> Transformer le PDF en Données Exploitables </h1>"
   ]
  },
  {
   "cell_type": "markdown",
   "id": "4b7d95ef-5d25-48a7-ac9d-8a41b25c1555",
   "metadata": {},
   "source": [
    "<h1 style=\"color: bleu;\">Méthodes d'Extraction </h1>"
   ]
  },
  {
   "cell_type": "markdown",
   "id": "0c61229b-bfb8-4b05-a745-7f106d0d33fd",
   "metadata": {},
   "source": [
    "1.Extraction de texte brut :"
   ]
  },
  {
   "cell_type": "code",
   "execution_count": 28,
   "id": "46d41a64-cf11-402e-83c8-776b52fbacf0",
   "metadata": {},
   "outputs": [
    {
     "name": "stdout",
     "output_type": "stream",
     "text": [
      "Note: you may need to restart the kernel to use updated packages.\n"
     ]
    },
    {
     "name": "stderr",
     "output_type": "stream",
     "text": [
      "ERROR: Could not find a version that satisfies the requirement pdfplumbe (from versions: none)\n",
      "ERROR: No matching distribution found for pdfplumbe\n"
     ]
    }
   ],
   "source": [
    "pip install  pdfplumbe"
   ]
  },
  {
   "cell_type": "code",
   "execution_count": 25,
   "id": "93a9f58d-fb86-44aa-be07-c6391a2def10",
   "metadata": {},
   "outputs": [
    {
     "ename": "ModuleNotFoundError",
     "evalue": "No module named 'pdfplumber'",
     "output_type": "error",
     "traceback": [
      "\u001b[1;31m---------------------------------------------------------------------------\u001b[0m",
      "\u001b[1;31mModuleNotFoundError\u001b[0m                       Traceback (most recent call last)",
      "Cell \u001b[1;32mIn[25], line 1\u001b[0m\n\u001b[1;32m----> 1\u001b[0m \u001b[38;5;28;01mimport\u001b[39;00m \u001b[38;5;21;01mpdfplumber\u001b[39;00m\n\u001b[0;32m      3\u001b[0m pdf_path \u001b[38;5;241m=\u001b[39m \u001b[38;5;124m\"\u001b[39m\u001b[38;5;124mcravath-bringing-blockchain-due-diligence-into-focus-102024_vb-002.pdf\u001b[39m\u001b[38;5;124m\"\u001b[39m\n\u001b[0;32m      5\u001b[0m \u001b[38;5;28;01mwith\u001b[39;00m pdfplumber\u001b[38;5;241m.\u001b[39mopen(pdf_path) \u001b[38;5;28;01mas\u001b[39;00m pdf:\n",
      "\u001b[1;31mModuleNotFoundError\u001b[0m: No module named 'pdfplumber'"
     ]
    }
   ],
   "source": [
    "import pdfplumber\n",
    "\n",
    "pdf_path = \"cravath-bringing-blockchain-due-diligence-into-focus-102024_vb-002.pdf\"\n",
    "\n",
    "with pdfplumber.open(pdf_path) as pdf:\n",
    "    text = \"\"\n",
    "    for page in pdf.pages:\n",
    "        text += page.extract_text() + \"\\n\"\n",
    "\n",
    "print(text[:1000])  # Afficher les 1000 premiers caractères\n"
   ]
  },
  {
   "cell_type": "code",
   "execution_count": null,
   "id": "8e923696-3cb5-496c-8a31-38f00826170b",
   "metadata": {},
   "outputs": [],
   "source": []
  }
 ],
 "metadata": {
  "kernelspec": {
   "display_name": "Python 3 (ipykernel)",
   "language": "python",
   "name": "python3"
  },
  "language_info": {
   "codemirror_mode": {
    "name": "ipython",
    "version": 3
   },
   "file_extension": ".py",
   "mimetype": "text/x-python",
   "name": "python",
   "nbconvert_exporter": "python",
   "pygments_lexer": "ipython3",
   "version": "3.12.4"
  }
 },
 "nbformat": 4,
 "nbformat_minor": 5
}
